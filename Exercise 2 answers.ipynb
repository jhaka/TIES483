{
 "cells": [
  {
   "cell_type": "markdown",
   "metadata": {
    "slideshow": {
     "slide_type": "slide"
    }
   },
   "source": [
    "# Exercises 2 - Answers"
   ]
  },
  {
   "cell_type": "markdown",
   "metadata": {
    "slideshow": {
     "slide_type": "slide"
    }
   },
   "source": [
    "## Exercise 1"
   ]
  },
  {
   "cell_type": "markdown",
   "metadata": {},
   "source": [
    "The profit that you make for each kwH is $2-0.01x^2-(1-0.01x)$. Thus, the amount of profit that you make is\n",
    "$$\n",
    "(1+0.01x-0.01x^2)x=x+0.01x^2-0.01x^3.\n",
    "$$\n",
    "Thus, the optimization problem is\n",
    "$$\n",
    "\\begin{align}\n",
    "\\max \\qquad & x+0.01x^2-0.01x^3\\\\\n",
    "\\text{s.t.} \\qquad & 0\\leq x \\leq 50.\n",
    "\\end{align}\n",
    "$$"
   ]
  },
  {
   "cell_type": "markdown",
   "metadata": {
    "slideshow": {
     "slide_type": "slide"
    }
   },
   "source": [
    "## Exercise 2"
   ]
  },
  {
   "cell_type": "code",
   "execution_count": 2,
   "metadata": {
    "collapsed": true
   },
   "outputs": [],
   "source": [
    "def bisection_line_search(a,b,f,L,epsilon):\n",
    "    x = a\n",
    "    y = b\n",
    "    while y-x>2*L:\n",
    "        if f((x+y)/2+epsilon)>f((x+y)/2-epsilon):\n",
    "            y=(x+y)/2+epsilon\n",
    "        else:\n",
    "            x = (x+y)/2-epsilon\n",
    "    return (x+y)/2"
   ]
  },
  {
   "cell_type": "code",
   "execution_count": 19,
   "metadata": {
    "collapsed": true
   },
   "outputs": [],
   "source": [
    "def f_ex2(x):\n",
    "    return (1-x)**2+x"
   ]
  },
  {
   "cell_type": "code",
   "execution_count": 8,
   "metadata": {
    "collapsed": false
   },
   "outputs": [
    {
     "name": "stdout",
     "output_type": "stream",
     "text": [
      "0.75 1 1\n"
     ]
    }
   ],
   "source": [
    "print f_ex2(0.5), f_ex2(0), f_ex2(1)"
   ]
  },
  {
   "cell_type": "code",
   "execution_count": 20,
   "metadata": {
    "collapsed": false
   },
   "outputs": [
    {
     "data": {
      "text/plain": [
       "0.49993946490478514"
      ]
     },
     "execution_count": 20,
     "metadata": {},
     "output_type": "execute_result"
    }
   ],
   "source": [
    "bisection_line_search(0,2,f_ex2,0.0001,1e-6)"
   ]
  },
  {
   "cell_type": "markdown",
   "metadata": {
    "slideshow": {
     "slide_type": "slide"
    }
   },
   "source": [
    "## Exercise 3"
   ]
  },
  {
   "cell_type": "code",
   "execution_count": 13,
   "metadata": {
    "collapsed": true
   },
   "outputs": [],
   "source": [
    "import math\n",
    "def golden_section_line_search(a,b,f,L):\n",
    "    x = a\n",
    "    y = b\n",
    "    f_left = f(y-(math.sqrt(5.0)-1)/2.0*(y-x)) #funtion eval \n",
    "    f_right = f(x+(math.sqrt(5.0)-1)/2.0*(y-x)) #function eval\n",
    "    while y-x>2*L:\n",
    "        if f_left > f_right:\n",
    "            x = y-(math.sqrt(5.0)-1)/2.0*(y-x)\n",
    "            f_left = f_right #no function eval\n",
    "            f_right = f(x+(math.sqrt(5.0)-1)/2.0*(y-x)) #function eval\n",
    "        else:\n",
    "            y = x+(math.sqrt(5.0)-1)/2.0*(y-x)\n",
    "            f_right = f_left #no function eval\n",
    "            f_left = f(y-(math.sqrt(5.0)-1)/2.0*(y-x)) #function eval\n",
    "    return (x+y)/2"
   ]
  },
  {
   "cell_type": "code",
   "execution_count": 21,
   "metadata": {
    "collapsed": false
   },
   "outputs": [
    {
     "data": {
      "text/plain": [
       "0.4999795718254958"
      ]
     },
     "execution_count": 21,
     "metadata": {},
     "output_type": "execute_result"
    }
   ],
   "source": [
    "golden_section_line_search(0,2,f_ex2,0.0001)"
   ]
  },
  {
   "cell_type": "markdown",
   "metadata": {
    "slideshow": {
     "slide_type": "slide"
    }
   },
   "source": [
    "## Exercise 4"
   ]
  },
  {
   "cell_type": "markdown",
   "metadata": {},
   "source": [
    "Now, $f(x) = (1-x)^2+x$. Thus, \n",
    "$$\n",
    "f'(x)=2(1-x)(-1)+1= -1 +2x.\n",
    "$$\n"
   ]
  },
  {
   "cell_type": "markdown",
   "metadata": {},
   "source": [
    "If $f'(x) = 0$, then $2x=1$ and $x=\\frac 12$.\n",
    "This is a local minimum since,\n",
    "$$\n",
    "f''(x) = 2,\n",
    "$$\n",
    "which is greater than $0$.\n",
    "\n",
    "This means that the algorithms work!"
   ]
  }
 ],
 "metadata": {
  "anaconda-cloud": {},
  "celltoolbar": "Slideshow",
  "kernelspec": {
   "display_name": "Python [conda root]",
   "language": "python",
   "name": "conda-root-py"
  },
  "language_info": {
   "codemirror_mode": {
    "name": "ipython",
    "version": 3
   },
   "file_extension": ".py",
   "mimetype": "text/x-python",
   "name": "python",
   "nbconvert_exporter": "python",
   "pygments_lexer": "ipython3",
   "version": "3.5.2"
  }
 },
 "nbformat": 4,
 "nbformat_minor": 0
}
