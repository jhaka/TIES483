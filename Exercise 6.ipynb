{
 "cells": [
  {
   "cell_type": "markdown",
   "metadata": {},
   "source": [
    "# Exercise 6\n",
    "* Due: 16.2.2016 at noon\n",
    "* Max points: 8"
   ]
  },
  {
   "cell_type": "markdown",
   "metadata": {},
   "source": [
    "## General rules\n",
    "* Send the source code or the written notes of your answers as an attachment to jussi.hakanen@jyu.fi before the due time\n",
    "* You will get feedback about your answers a week from the due date\n",
    "* From the second week on, the exercises will be given on the previous Wednesday's lecture"
   ]
  },
  {
   "cell_type": "markdown",
   "metadata": {},
   "source": [
    "## Exercises\n",
    "\n",
    "1. **2 points** Solve optimization problem\n",
    "$$\n",
    "\\begin{align}\n",
    "\\min \\quad &\\log(x_1^2+1)+x_2^4+x_1x_3\\\\\n",
    "\\text{s.t. }\\quad &x_1^3-x_2^2\\geq 1\\\\\n",
    "& x_1,x_3\\geq 0, \\ x_2\\in\\mathbb R\n",
    "\\end{align}\n",
    "$$\n",
    "using any method that you have available.\n",
    "2. **2 points** Study multiobjective optimization problem\n",
    "$$\n",
    "\\begin{align}\n",
    "\\min & \\{\\|x-(1,0)\\|^2,\\|x-(0,1)\\|^2\\}\\\\\n",
    "\\text{s.t. }&x\\in \\mathbb R^2.\n",
    "\\end{align}\n",
    "$$\n",
    "Chacterize algebraicly the full set of Pareto optimal solutions.\n",
    "3. **2 points** Calculate the ideal and nadir vectors for the problem of 2. You can use any methods available.\n",
    "4. **2 points** Try to generate a representative set of Pareto optimal solutions using the weighting method for the problem of 2. Compare this set to the set of Pareto optimal solutions from 2. What do you notice?"
   ]
  }
 ],
 "metadata": {
  "anaconda-cloud": {},
  "kernelspec": {
   "display_name": "Python 2",
   "language": "python",
   "name": "python2"
  },
  "language_info": {
   "codemirror_mode": {
    "name": "ipython",
    "version": 2
   },
   "file_extension": ".py",
   "mimetype": "text/x-python",
   "name": "python",
   "nbconvert_exporter": "python",
   "pygments_lexer": "ipython2",
   "version": "2.7.12"
  }
 },
 "nbformat": 4,
 "nbformat_minor": 0
}
